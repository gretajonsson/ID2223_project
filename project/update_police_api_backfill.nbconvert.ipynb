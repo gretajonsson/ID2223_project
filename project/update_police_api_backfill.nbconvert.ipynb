{
 "cells": [
  {
   "cell_type": "code",
   "execution_count": 1,
   "metadata": {
    "execution": {
     "iopub.execute_input": "2025-01-19T01:15:51.893731Z",
     "iopub.status.busy": "2025-01-19T01:15:51.893553Z",
     "iopub.status.idle": "2025-01-19T01:15:52.278711Z",
     "shell.execute_reply": "2025-01-19T01:15:52.278084Z"
    }
   },
   "outputs": [],
   "source": [
    "import datetime\n",
    "import time\n",
    "import requests\n",
    "import pandas as pd\n",
    "import json\n",
    "import os\n",
    "import warnings\n",
    "import requests\n",
    "import numpy as np\n",
    "\n",
    "\n",
    "\n",
    "def filter_location(accidents, counties_list):\n",
    "    \"\"\"_summary_\n",
    "\n",
    "    Args:\n",
    "        accidents (DataFrame): full API call from polisens API\n",
    "        counties_list (str list): name of counties \n",
    "\n",
    "    Returns:\n",
    "        DataFrame: location only of selected counties\n",
    "    \"\"\"\n",
    "    locations = pd.DataFrame(columns=['name', 'gps'])\n",
    "    locations['name'] = accidents['location'].apply(lambda x: x['name'])\n",
    "    locations['gps'] = accidents['location'].apply(lambda x: x['gps'])\n",
    "\n",
    "    # Filter the locations to only include those in Stockholm's counties\n",
    "    stockholm_locations = locations[locations['name'].isin(counties_list)]\n",
    "    return stockholm_locations\n",
    "\n",
    "\n",
    "def choose_counties(counties: list):\n",
    "    \"\"\"counties eg = \"01\" to \"25\"  OBS \"02\" non existent\"\"\"\n",
    "\n",
    "    with open(\"../../data/kommuner.json\", \"r\") as f:\n",
    "        kommuner = json.load(f)\n",
    "\n",
    "    chosen_counties = []\n",
    "    for county in counties:\n",
    "        chosen_counties.append(kommuner[county])\n",
    "\n",
    "    chosen_counties = [kommun for sublist in chosen_counties for kommun in sublist]\n",
    "\n",
    "    return chosen_counties"
   ]
  },
  {
   "cell_type": "code",
   "execution_count": 2,
   "metadata": {
    "execution": {
     "iopub.execute_input": "2025-01-19T01:15:52.281062Z",
     "iopub.status.busy": "2025-01-19T01:15:52.280649Z",
     "iopub.status.idle": "2025-01-19T01:15:52.285024Z",
     "shell.execute_reply": "2025-01-19T01:15:52.284559Z"
    }
   },
   "outputs": [],
   "source": [
    "\n",
    "def get_polisens_events(date):\n",
    "    url = f\"https://polisen.se/api/events?DateTime={date}\"\n",
    "\n",
    "    try:\n",
    "        response = requests.get(url)\n",
    "        response.raise_for_status()  # Raise an error for HTTP errors\n",
    "        events = response.json()\n",
    "        return events\n",
    "\n",
    "    except requests.exceptions.RequestException as e:\n",
    "        print(\"Error fetching data:\", e)\n",
    "        return None\n",
    "\n",
    "\n",
    "def filter_event_type(events, type=\"Trafikolycka\"):\n",
    "    if events is None:\n",
    "        return 0\n",
    "    df = pd.DataFrame(events)\n",
    "    filtered_events = df[df[\"type\"].str.contains(type, na=False)]\n",
    "    return filtered_events\n",
    "\n",
    "\n",
    "def get_daily_events(date = None, type=\"Trafikolycka\"):\n",
    "    \"\"\"Get events (accidents often) for a specific date\n",
    "\n",
    "    Args:\n",
    "        date (\"YYYY-MM-DD\" , optional): Defaults to todays date.\n",
    "        type (str, optional): Type of report to count. Defaults to \"Trafikolycka\".\n",
    "\n",
    "    Returns:\n",
    "        int: Number of reports made on the specified date\n",
    "    \"\"\"\n",
    "    \n",
    "    if date is None:\n",
    "        date = datetime.date.today()\n",
    "\n",
    "    events = get_polisens_events(date)\n",
    "    filtered_events = filter_event_type(events, type)\n",
    "    \n",
    "    return filtered_events"
   ]
  },
  {
   "cell_type": "code",
   "execution_count": 3,
   "metadata": {
    "execution": {
     "iopub.execute_input": "2025-01-19T01:15:52.286855Z",
     "iopub.status.busy": "2025-01-19T01:15:52.286515Z",
     "iopub.status.idle": "2025-01-19T01:15:53.151663Z",
     "shell.execute_reply": "2025-01-19T01:15:53.151050Z"
    }
   },
   "outputs": [
    {
     "name": "stdout",
     "output_type": "stream",
     "text": [
      "Data for 2025-01-18 has been added to the CSV.\n"
     ]
    }
   ],
   "source": [
    "def update_csv_with_yesterdays_accidents(csv_path):\n",
    "    # Read the existing CSV file\n",
    "    df = pd.read_csv(csv_path)\n",
    "\n",
    "    # Get yesterday's date\n",
    "    yesterday = datetime.datetime.now() - datetime.timedelta(1)\n",
    "    yesterday_str = yesterday.strftime('%Y-%m-%d')\n",
    "\n",
    "    # Check if yesterday's data is already present\n",
    "    if yesterday_str in df['date'].values:\n",
    "        print(f\"Data for {yesterday_str} is already present in the CSV.\")\n",
    "        return\n",
    "\n",
    "    # Get the number of accidents for yesterday\n",
    "    yesterdays_accidents = get_daily_events(date=yesterday_str, type=\"Trafikolycka\")\n",
    "\n",
    "    location_acc = filter_location(yesterdays_accidents, [\"01\", \"03\",\"04\",\"17\", \"19\", \"20\"])\n",
    "    no_yesterdays_accidents = len(location_acc)\n",
    "\n",
    "    # Create a new DataFrame with yesterday's data\n",
    "    new_data = pd.DataFrame({\n",
    "        'date': [yesterday_str],\n",
    "        'accidents': [no_yesterdays_accidents]\n",
    "    })\n",
    "\n",
    "    # Append the new data to the existing DataFrame\n",
    "    df = pd.concat([df, new_data], ignore_index=True)\n",
    "\n",
    "    # Save the updated DataFrame back to the CSV\n",
    "    df.to_csv(csv_path, index=False)\n",
    "    print(f\"Data for {yesterday_str} has been added to the CSV.\")\n",
    "\n",
    "# Example usage\n",
    "csv_path = '../data/police_api_backfill.csv'\n",
    "update_csv_with_yesterdays_accidents(csv_path)\n"
   ]
  }
 ],
 "metadata": {
  "kernelspec": {
   "display_name": "Python 3",
   "language": "python",
   "name": "python3"
  },
  "language_info": {
   "codemirror_mode": {
    "name": "ipython",
    "version": 3
   },
   "file_extension": ".py",
   "mimetype": "text/x-python",
   "name": "python",
   "nbconvert_exporter": "python",
   "pygments_lexer": "ipython3",
   "version": "3.12.8"
  }
 },
 "nbformat": 4,
 "nbformat_minor": 2
}
