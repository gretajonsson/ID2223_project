{
 "cells": [
  {
   "cell_type": "code",
   "execution_count": 2,
   "metadata": {},
   "outputs": [],
   "source": [
    "import datetime\n",
    "import time\n",
    "import requests\n",
    "import pandas as pd\n",
    "import hopsworks\n",
    "from functions import util\n",
    "import json\n",
    "import os\n",
    "import warnings\n",
    "import requests\n",
    "warnings.filterwarnings(\"ignore\")"
   ]
  },
  {
   "cell_type": "markdown",
   "metadata": {},
   "source": [
    "#### util police api"
   ]
  },
  {
   "cell_type": "code",
   "execution_count": 26,
   "metadata": {},
   "outputs": [],
   "source": [
    "\n",
    "def get_polisens_events(date):\n",
    "    url = f\"https://polisen.se/api/events?DateTime={date}\"\n",
    "\n",
    "    try:\n",
    "        response = requests.get(url)\n",
    "        response.raise_for_status()  # Raise an error for HTTP errors\n",
    "        events = response.json()\n",
    "        return events\n",
    "\n",
    "    except requests.exceptions.RequestException as e:\n",
    "        print(\"Error fetching data:\", e)\n",
    "        return None\n",
    "\n",
    "\n",
    "def filter_event_type(events, type=\"Trafikolycka\"):\n",
    "    if events is None:\n",
    "        return 0\n",
    "    df = pd.DataFrame(events)\n",
    "    filtered_events = df[df[\"type\"].str.contains(type, na=False)]\n",
    "    return filtered_events\n",
    "\n",
    "\n",
    "def get_daily_events(date = None, type=\"Trafikolycka\"):\n",
    "    \"\"\"Get events (accidents often) for a specific date\n",
    "\n",
    "    Args:\n",
    "        date (\"YYYY-MM-DD\" , optional): Defaults to todays date.\n",
    "        type (str, optional): Type of report to count. Defaults to \"Trafikolycka\".\n",
    "\n",
    "    Returns:\n",
    "        int: Number of reports made on the specified date\n",
    "    \"\"\"\n",
    "    \n",
    "    if date is None:\n",
    "        date = datetime.date.today()\n",
    "\n",
    "    events = get_polisens_events(date)\n",
    "    filtered_events = filter_event_type(events, type)\n",
    "    \n",
    "    return filtered_events\n"
   ]
  },
  {
   "cell_type": "markdown",
   "metadata": {},
   "source": [
    "#### Available data 2015-01-07"
   ]
  },
  {
   "cell_type": "code",
   "execution_count": 23,
   "metadata": {},
   "outputs": [],
   "source": [
    "# Collect the number of accidents for each day from 2024-08-01 until yesterday\n",
    "start_date = datetime(2024, 8, 1).date()\n",
    "end_date = datetime.now().date() - timedelta(days=1)\n",
    "date_range = pd.date_range(start=start_date, end=end_date)\n",
    "\n",
    "accidents_per_day = []\n",
    "\n",
    "for single_date in date_range:\n",
    "    date_str = single_date.strftime(\"%Y-%m-%d\")\n",
    "    daily_events = get_daily_events(date=date_str)\n",
    "    accidents_per_day.append(len(daily_events))\n",
    "\n",
    "# Create a DataFrame with the collected data\n",
    "accidents_df = pd.DataFrame({\n",
    "    \"date\": date_range,\n",
    "    \"accidents\": accidents_per_day\n",
    "})\n",
    "\n",
    "# Save the DataFrame to a CSV file\n",
    "accidents_df.to_csv(\"../data/police_api_backfill.csv\", index=False)"
   ]
  }
 ],
 "metadata": {
  "kernelspec": {
   "display_name": "Python 3",
   "language": "python",
   "name": "python3"
  },
  "language_info": {
   "codemirror_mode": {
    "name": "ipython",
    "version": 3
   },
   "file_extension": ".py",
   "mimetype": "text/x-python",
   "name": "python",
   "nbconvert_exporter": "python",
   "pygments_lexer": "ipython3",
   "version": "3.10.11"
  }
 },
 "nbformat": 4,
 "nbformat_minor": 2
}
