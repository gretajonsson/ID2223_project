{
 "cells": [
  {
   "cell_type": "code",
   "execution_count": 2,
   "metadata": {},
   "outputs": [],
   "source": [
    "import datetime\n",
    "import time\n",
    "import requests\n",
    "import pandas as pd\n",
    "import hopsworks\n",
    "from functions import util\n",
    "import json\n",
    "import os\n",
    "import warnings\n",
    "import requests\n",
    "warnings.filterwarnings(\"ignore\")"
   ]
  },
  {
   "cell_type": "markdown",
   "metadata": {},
   "source": [
    "#### util police api"
   ]
  },
  {
   "cell_type": "code",
   "execution_count": 26,
   "metadata": {},
   "outputs": [],
   "source": [
    "\n",
    "def get_polisens_events(date):\n",
    "    url = f\"https://polisen.se/api/events?DateTime={date}\"\n",
    "\n",
    "    try:\n",
    "        response = requests.get(url)\n",
    "        response.raise_for_status()  # Raise an error for HTTP errors\n",
    "        events = response.json()\n",
    "        return events\n",
    "\n",
    "    except requests.exceptions.RequestException as e:\n",
    "        print(\"Error fetching data:\", e)\n",
    "        return None\n",
    "\n",
    "\n",
    "def filter_event_type(events, type=\"Trafikolycka\"):\n",
    "    if events is None:\n",
    "        return 0\n",
    "    df = pd.DataFrame(events)\n",
    "    filtered_events = df[df[\"type\"].str.contains(type, na=False)]\n",
    "    return filtered_events\n",
    "\n",
    "\n",
    "def get_daily_events(date = None, type=\"Trafikolycka\"):\n",
    "    \"\"\"Get events (accidents often) for a specific date\n",
    "\n",
    "    Args:\n",
    "        date (\"YYYY-MM-DD\" , optional): Defaults to todays date.\n",
    "        type (str, optional): Type of report to count. Defaults to \"Trafikolycka\".\n",
    "\n",
    "    Returns:\n",
    "        int: Number of reports made on the specified date\n",
    "    \"\"\"\n",
    "    \n",
    "    if date is None:\n",
    "        date = datetime.date.today()\n",
    "\n",
    "    events = get_polisens_events(date)\n",
    "    filtered_events = filter_event_type(events, type)\n",
    "    \n",
    "    return filtered_events\n"
   ]
  },
  {
   "cell_type": "markdown",
   "metadata": {},
   "source": [
    "#### Available data 2015-01-07"
   ]
  },
  {
   "cell_type": "code",
   "execution_count": 23,
   "metadata": {},
   "outputs": [],
   "source": [
    "# Collect the number of accidents for each day from 2024-08-01 until yesterday\n",
    "start_date = datetime(2024, 8, 1).date()\n",
    "end_date = datetime.now().date() - timedelta(days=1)\n",
    "date_range = pd.date_range(start=start_date, end=end_date)\n",
    "\n",
    "accidents_per_day = []\n",
    "\n",
    "for single_date in date_range:\n",
    "    date_str = single_date.strftime(\"%Y-%m-%d\")\n",
    "    daily_events = get_daily_events(date=date_str)\n",
    "    accidents_per_day.append(len(daily_events))\n",
    "\n",
    "# Create a DataFrame with the collected data\n",
    "accidents_df = pd.DataFrame({\n",
    "    \"date\": date_range,\n",
    "    \"accidents\": accidents_per_day\n",
    "})\n",
    "\n",
    "# Save the DataFrame to a CSV file\n",
    "accidents_df.to_csv(\"../data/police_api_backfill.csv\", index=False)"
   ]
  },
  {
   "cell_type": "code",
   "execution_count": 30,
   "metadata": {},
   "outputs": [
    {
     "name": "stdout",
     "output_type": "stream",
     "text": [
      "Data for 2025-01-06 is already present in the CSV.\n"
     ]
    }
   ],
   "source": [
    "import pandas as pd\n",
    "from datetime import datetime, timedelta\n",
    "\n",
    "def update_csv_with_yesterdays_accidents(csv_path):\n",
    "    # Read the existing CSV file\n",
    "    df = pd.read_csv(csv_path)\n",
    "\n",
    "    # Get yesterday's date\n",
    "    yesterday = datetime.now() - timedelta(1)\n",
    "    yesterday_str = yesterday.strftime('%Y-%m-%d')\n",
    "\n",
    "    # Check if yesterday's data is already present\n",
    "    if yesterday_str in df['date'].values:\n",
    "        print(f\"Data for {yesterday_str} is already present in the CSV.\")\n",
    "        return\n",
    "\n",
    "    # Get the number of accidents for yesterday\n",
    "    yesterdays_accidents = daily_events = get_daily_events(date=yesterday_str, type=\"Trafikolycka\")\n",
    "    no_yesterdays_accidents = len(yesterdays_accidents)\n",
    "\n",
    "    # Create a new DataFrame with yesterday's data\n",
    "    new_data = pd.DataFrame({\n",
    "        'date': [yesterday_str],\n",
    "        'accidents': [no_yesterdays_accidents]\n",
    "    })\n",
    "\n",
    "    # Append the new data to the existing DataFrame\n",
    "    df = pd.concat([df, new_data], ignore_index=True)\n",
    "\n",
    "    # Save the updated DataFrame back to the CSV\n",
    "    df.to_csv(csv_path, index=False)\n",
    "    print(f\"Data for {yesterday_str} has been added to the CSV.\")\n",
    "\n",
    "def get_yesterdays_accidents():\n",
    "    # Placeholder function to get yesterday's number of accidents\n",
    "    # Replace this with your actual logic to get the number of accidents\n",
    "    return 10\n",
    "\n",
    "# Example usage\n",
    "csv_path = '../data/police_api_backfill.csv'\n",
    "update_csv_with_yesterdays_accidents(csv_path)"
   ]
  }
 ],
 "metadata": {
  "kernelspec": {
   "display_name": "Python 3",
   "language": "python",
   "name": "python3"
  },
  "language_info": {
   "codemirror_mode": {
    "name": "ipython",
    "version": 3
   },
   "file_extension": ".py",
   "mimetype": "text/x-python",
   "name": "python",
   "nbconvert_exporter": "python",
   "pygments_lexer": "ipython3",
   "version": "3.10.11"
  }
 },
 "nbformat": 4,
 "nbformat_minor": 2
}
