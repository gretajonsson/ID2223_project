{
 "cells": [
  {
   "cell_type": "markdown",
   "id": "cfe638c6",
   "metadata": {},
   "source": [
    "#### Imports"
   ]
  },
  {
   "cell_type": "code",
   "execution_count": 1,
   "id": "7de2e93a",
   "metadata": {
    "execution": {
     "iopub.execute_input": "2025-01-17T01:10:42.510360Z",
     "iopub.status.busy": "2025-01-17T01:10:42.510165Z",
     "iopub.status.idle": "2025-01-17T01:10:45.775186Z",
     "shell.execute_reply": "2025-01-17T01:10:45.774610Z"
    }
   },
   "outputs": [
    {
     "name": "stderr",
     "output_type": "stream",
     "text": [
      "/opt/hostedtoolcache/Python/3.12.8/x64/lib/python3.12/site-packages/tqdm/auto.py:21: TqdmWarning: IProgress not found. Please update jupyter and ipywidgets. See https://ipywidgets.readthedocs.io/en/stable/user_install.html\n",
      "  from .autonotebook import tqdm as notebook_tqdm\n"
     ]
    },
    {
     "name": "stdout",
     "output_type": "stream",
     "text": [
      "2025-01-17 01:10:45,168 INFO: Failed to extract font properties from /usr/share/fonts/truetype/noto/NotoColorEmoji.ttf: In FT2Font: Can not load face (unknown file format; error code 0x2)\n"
     ]
    },
    {
     "name": "stdout",
     "output_type": "stream",
     "text": [
      "2025-01-17 01:10:45,402 INFO: generated new fontManager\n"
     ]
    }
   ],
   "source": [
    "import datetime\n",
    "import pandas as pd\n",
    "import hopsworks\n",
    "from functions import util\n",
    "import os"
   ]
  },
  {
   "cell_type": "code",
   "execution_count": 2,
   "id": "b70cd57d",
   "metadata": {
    "execution": {
     "iopub.execute_input": "2025-01-17T01:10:45.777714Z",
     "iopub.status.busy": "2025-01-17T01:10:45.777143Z",
     "iopub.status.idle": "2025-01-17T01:10:47.729247Z",
     "shell.execute_reply": "2025-01-17T01:10:47.728596Z"
    },
    "tags": []
   },
   "outputs": [
    {
     "name": "stdout",
     "output_type": "stream",
     "text": [
      "2025-01-17 01:10:45,779 INFO: Initializing external client\n"
     ]
    },
    {
     "name": "stdout",
     "output_type": "stream",
     "text": [
      "2025-01-17 01:10:45,780 INFO: Base URL: https://c.app.hopsworks.ai:443\n"
     ]
    },
    {
     "name": "stdout",
     "output_type": "stream",
     "text": [
      "2025-01-17 01:10:46,893 INFO: Python Engine initialized.\n"
     ]
    },
    {
     "name": "stdout",
     "output_type": "stream",
     "text": [
      "\n",
      "Logged in to project, explore it here https://c.app.hopsworks.ai:443/p/1207502\n"
     ]
    }
   ],
   "source": [
    "with open('../data/hopsworks-api-key.txt', 'r') as file:\n",
    "    os.environ[\"HOPSWORKS_API_KEY\"] = file.read().rstrip()\n",
    "\n",
    "project = hopsworks.login()\n",
    "fs = project.get_feature_store() \n",
    "\n",
    "country=\"Sweden\"\n",
    "city = \"Stockholm\"\n",
    "latitude = \"59.3294\"\n",
    "longitude = \"18.0687\"\n",
    "\n",
    "today = datetime.date.today()"
   ]
  },
  {
   "cell_type": "markdown",
   "id": "2caf9289",
   "metadata": {},
   "source": [
    "#### Get references to the Feature Groups </span>"
   ]
  },
  {
   "cell_type": "code",
   "execution_count": 3,
   "id": "66f5d7d5",
   "metadata": {
    "execution": {
     "iopub.execute_input": "2025-01-17T01:10:47.731389Z",
     "iopub.status.busy": "2025-01-17T01:10:47.731197Z",
     "iopub.status.idle": "2025-01-17T01:10:48.327181Z",
     "shell.execute_reply": "2025-01-17T01:10:48.326610Z"
    }
   },
   "outputs": [],
   "source": [
    "# Retrieve feature groups\n",
    "accidents_fg = fs.get_feature_group(\n",
    "    name='accidents',\n",
    "    version=1,\n",
    ")\n",
    "weather_fg = fs.get_feature_group(\n",
    "    name='weather',\n",
    "    version=1,\n",
    ")"
   ]
  },
  {
   "cell_type": "markdown",
   "id": "af845ab6",
   "metadata": {},
   "source": [
    "#### Get Weather Forecast data</span>"
   ]
  },
  {
   "cell_type": "code",
   "execution_count": 4,
   "id": "d2ecb3e7",
   "metadata": {
    "execution": {
     "iopub.execute_input": "2025-01-17T01:10:48.329185Z",
     "iopub.status.busy": "2025-01-17T01:10:48.328995Z",
     "iopub.status.idle": "2025-01-17T01:10:49.090030Z",
     "shell.execute_reply": "2025-01-17T01:10:49.089524Z"
    }
   },
   "outputs": [
    {
     "name": "stdout",
     "output_type": "stream",
     "text": [
      "Coordinates 59.25°N 18.0°E\n",
      "Elevation 24.0 m asl\n",
      "Timezone None None\n",
      "Timezone difference to GMT+0 0 s\n"
     ]
    },
    {
     "data": {
      "text/html": [
       "<div>\n",
       "<style scoped>\n",
       "    .dataframe tbody tr th:only-of-type {\n",
       "        vertical-align: middle;\n",
       "    }\n",
       "\n",
       "    .dataframe tbody tr th {\n",
       "        vertical-align: top;\n",
       "    }\n",
       "\n",
       "    .dataframe thead th {\n",
       "        text-align: right;\n",
       "    }\n",
       "</style>\n",
       "<table border=\"1\" class=\"dataframe\">\n",
       "  <thead>\n",
       "    <tr style=\"text-align: right;\">\n",
       "      <th></th>\n",
       "      <th>date</th>\n",
       "      <th>temperature_2m_mean</th>\n",
       "      <th>precipitation_sum</th>\n",
       "      <th>wind_speed_10m_max</th>\n",
       "      <th>wind_direction_10m_dominant</th>\n",
       "      <th>city</th>\n",
       "      <th>day_of_week</th>\n",
       "    </tr>\n",
       "  </thead>\n",
       "  <tbody>\n",
       "    <tr>\n",
       "      <th>0</th>\n",
       "      <td>2025-01-17</td>\n",
       "      <td>6.40</td>\n",
       "      <td>0.0</td>\n",
       "      <td>17.026896</td>\n",
       "      <td>256.551361</td>\n",
       "      <td>Stockholm</td>\n",
       "      <td>4</td>\n",
       "    </tr>\n",
       "    <tr>\n",
       "      <th>1</th>\n",
       "      <td>2025-01-18</td>\n",
       "      <td>2.75</td>\n",
       "      <td>0.0</td>\n",
       "      <td>8.707238</td>\n",
       "      <td>262.875092</td>\n",
       "      <td>Stockholm</td>\n",
       "      <td>5</td>\n",
       "    </tr>\n",
       "    <tr>\n",
       "      <th>2</th>\n",
       "      <td>2025-01-19</td>\n",
       "      <td>2.60</td>\n",
       "      <td>0.0</td>\n",
       "      <td>13.441071</td>\n",
       "      <td>290.376526</td>\n",
       "      <td>Stockholm</td>\n",
       "      <td>6</td>\n",
       "    </tr>\n",
       "    <tr>\n",
       "      <th>3</th>\n",
       "      <td>2025-01-20</td>\n",
       "      <td>2.90</td>\n",
       "      <td>0.0</td>\n",
       "      <td>9.470120</td>\n",
       "      <td>98.746078</td>\n",
       "      <td>Stockholm</td>\n",
       "      <td>0</td>\n",
       "    </tr>\n",
       "    <tr>\n",
       "      <th>4</th>\n",
       "      <td>2025-01-21</td>\n",
       "      <td>0.95</td>\n",
       "      <td>0.0</td>\n",
       "      <td>16.235960</td>\n",
       "      <td>273.813995</td>\n",
       "      <td>Stockholm</td>\n",
       "      <td>1</td>\n",
       "    </tr>\n",
       "    <tr>\n",
       "      <th>5</th>\n",
       "      <td>2025-01-22</td>\n",
       "      <td>-0.35</td>\n",
       "      <td>0.1</td>\n",
       "      <td>12.287555</td>\n",
       "      <td>31.827414</td>\n",
       "      <td>Stockholm</td>\n",
       "      <td>2</td>\n",
       "    </tr>\n",
       "    <tr>\n",
       "      <th>6</th>\n",
       "      <td>2025-01-23</td>\n",
       "      <td>-5.05</td>\n",
       "      <td>0.0</td>\n",
       "      <td>9.605998</td>\n",
       "      <td>12.994630</td>\n",
       "      <td>Stockholm</td>\n",
       "      <td>3</td>\n",
       "    </tr>\n",
       "    <tr>\n",
       "      <th>7</th>\n",
       "      <td>2025-01-24</td>\n",
       "      <td>-2.70</td>\n",
       "      <td>0.0</td>\n",
       "      <td>5.483356</td>\n",
       "      <td>113.198624</td>\n",
       "      <td>Stockholm</td>\n",
       "      <td>4</td>\n",
       "    </tr>\n",
       "    <tr>\n",
       "      <th>8</th>\n",
       "      <td>2025-01-25</td>\n",
       "      <td>-1.75</td>\n",
       "      <td>0.1</td>\n",
       "      <td>20.418695</td>\n",
       "      <td>80.869904</td>\n",
       "      <td>Stockholm</td>\n",
       "      <td>5</td>\n",
       "    </tr>\n",
       "    <tr>\n",
       "      <th>9</th>\n",
       "      <td>2025-01-26</td>\n",
       "      <td>-0.55</td>\n",
       "      <td>0.1</td>\n",
       "      <td>10.383987</td>\n",
       "      <td>56.309914</td>\n",
       "      <td>Stockholm</td>\n",
       "      <td>6</td>\n",
       "    </tr>\n",
       "  </tbody>\n",
       "</table>\n",
       "</div>"
      ],
      "text/plain": [
       "        date  temperature_2m_mean  precipitation_sum  wind_speed_10m_max  \\\n",
       "0 2025-01-17                 6.40                0.0           17.026896   \n",
       "1 2025-01-18                 2.75                0.0            8.707238   \n",
       "2 2025-01-19                 2.60                0.0           13.441071   \n",
       "3 2025-01-20                 2.90                0.0            9.470120   \n",
       "4 2025-01-21                 0.95                0.0           16.235960   \n",
       "5 2025-01-22                -0.35                0.1           12.287555   \n",
       "6 2025-01-23                -5.05                0.0            9.605998   \n",
       "7 2025-01-24                -2.70                0.0            5.483356   \n",
       "8 2025-01-25                -1.75                0.1           20.418695   \n",
       "9 2025-01-26                -0.55                0.1           10.383987   \n",
       "\n",
       "   wind_direction_10m_dominant       city  day_of_week  \n",
       "0                   256.551361  Stockholm            4  \n",
       "1                   262.875092  Stockholm            5  \n",
       "2                   290.376526  Stockholm            6  \n",
       "3                    98.746078  Stockholm            0  \n",
       "4                   273.813995  Stockholm            1  \n",
       "5                    31.827414  Stockholm            2  \n",
       "6                    12.994630  Stockholm            3  \n",
       "7                   113.198624  Stockholm            4  \n",
       "8                    80.869904  Stockholm            5  \n",
       "9                    56.309914  Stockholm            6  "
      ]
     },
     "execution_count": 4,
     "metadata": {},
     "output_type": "execute_result"
    }
   ],
   "source": [
    "hourly_df = util.get_hourly_weather_forecast(city, latitude, longitude)\n",
    "hourly_df = hourly_df.set_index('date')\n",
    "\n",
    "# We will only make 1 daily prediction, so we will replace the hourly forecasts with a single daily forecast\n",
    "# We only want the daily weather data, so only get weather at 12:00\n",
    "daily_df = hourly_df.between_time('11:59', '12:01')\n",
    "daily_df = daily_df.reset_index()\n",
    "daily_df['date'] = pd.to_datetime(daily_df['date']).dt.date\n",
    "daily_df['date'] = pd.to_datetime(daily_df['date'])\n",
    "daily_df['city'] = city\n",
    "daily_df['day_of_week'] = daily_df['date'].dt.dayofweek\n",
    "\n",
    "daily_df"
   ]
  },
  {
   "cell_type": "code",
   "execution_count": 5,
   "id": "4c563109",
   "metadata": {
    "execution": {
     "iopub.execute_input": "2025-01-17T01:10:49.092017Z",
     "iopub.status.busy": "2025-01-17T01:10:49.091664Z",
     "iopub.status.idle": "2025-01-17T01:10:49.099241Z",
     "shell.execute_reply": "2025-01-17T01:10:49.098609Z"
    }
   },
   "outputs": [
    {
     "name": "stdout",
     "output_type": "stream",
     "text": [
      "<class 'pandas.core.frame.DataFrame'>\n",
      "RangeIndex: 10 entries, 0 to 9\n",
      "Data columns (total 7 columns):\n",
      " #   Column                       Non-Null Count  Dtype         \n",
      "---  ------                       --------------  -----         \n",
      " 0   date                         10 non-null     datetime64[ns]\n",
      " 1   temperature_2m_mean          10 non-null     float32       \n",
      " 2   precipitation_sum            10 non-null     float32       \n",
      " 3   wind_speed_10m_max           10 non-null     float32       \n",
      " 4   wind_direction_10m_dominant  10 non-null     float32       \n",
      " 5   city                         10 non-null     object        \n",
      " 6   day_of_week                  10 non-null     int32         \n",
      "dtypes: datetime64[ns](1), float32(4), int32(1), object(1)\n",
      "memory usage: 492.0+ bytes\n"
     ]
    }
   ],
   "source": [
    "daily_df.info()"
   ]
  },
  {
   "cell_type": "code",
   "execution_count": 6,
   "id": "d491b0a0",
   "metadata": {
    "execution": {
     "iopub.execute_input": "2025-01-17T01:10:49.101090Z",
     "iopub.status.busy": "2025-01-17T01:10:49.100736Z",
     "iopub.status.idle": "2025-01-17T01:10:58.813619Z",
     "shell.execute_reply": "2025-01-17T01:10:58.813109Z"
    }
   },
   "outputs": [
    {
     "name": "stderr",
     "output_type": "stream",
     "text": [
      "\r",
      "Uploading Dataframe: 0.00% |          | Rows 0/10 | Elapsed Time: 00:00 | Remaining Time: ?"
     ]
    },
    {
     "name": "stderr",
     "output_type": "stream",
     "text": [
      "\r",
      "Uploading Dataframe: 40.00% |████      | Rows 4/10 | Elapsed Time: 00:01 | Remaining Time: 00:01"
     ]
    },
    {
     "name": "stderr",
     "output_type": "stream",
     "text": [
      "\r",
      "Uploading Dataframe: 100.00% |██████████| Rows 10/10 | Elapsed Time: 00:01 | Remaining Time: 00:00"
     ]
    },
    {
     "name": "stderr",
     "output_type": "stream",
     "text": [
      "\n"
     ]
    },
    {
     "name": "stdout",
     "output_type": "stream",
     "text": [
      "Launching job: weather_1_offline_fg_materialization\n"
     ]
    },
    {
     "name": "stdout",
     "output_type": "stream",
     "text": [
      "Job started successfully, you can follow the progress at \n",
      "https://c.app.hopsworks.ai:443/p/1207502/jobs/named/weather_1_offline_fg_materialization/executions\n"
     ]
    },
    {
     "data": {
      "text/plain": [
       "(Job('weather_1_offline_fg_materialization', 'SPARK'), None)"
      ]
     },
     "execution_count": 6,
     "metadata": {},
     "output_type": "execute_result"
    }
   ],
   "source": [
    "weather_fg.insert(daily_df)"
   ]
  }
 ],
 "metadata": {
  "kernelspec": {
   "display_name": "Python 3",
   "language": "python",
   "name": "python3"
  },
  "language_info": {
   "codemirror_mode": {
    "name": "ipython",
    "version": 3
   },
   "file_extension": ".py",
   "mimetype": "text/x-python",
   "name": "python",
   "nbconvert_exporter": "python",
   "pygments_lexer": "ipython3",
   "version": "3.12.8"
  }
 },
 "nbformat": 4,
 "nbformat_minor": 5
}
