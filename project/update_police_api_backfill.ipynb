{
 "cells": [
  {
   "cell_type": "code",
   "execution_count": null,
   "metadata": {
    "vscode": {
     "languageId": "plaintext"
    }
   },
   "outputs": [],
   "source": [
    "import pandas as pd\n",
    "from datetime import datetime, timedelta\n",
    "\n",
    "def update_csv_with_yesterdays_accidents(csv_path):\n",
    "    # Read the existing CSV file\n",
    "    df = pd.read_csv(csv_path)\n",
    "\n",
    "    # Get yesterday's date\n",
    "    yesterday = datetime.now() - timedelta(1)\n",
    "    yesterday_str = yesterday.strftime('%Y-%m-%d')\n",
    "\n",
    "    # Check if yesterday's data is already present\n",
    "    if yesterday_str in df['date'].values:\n",
    "        print(f\"Data for {yesterday_str} is already present in the CSV.\")\n",
    "        return\n",
    "\n",
    "    # Get the number of accidents for yesterday\n",
    "    yesterdays_accidents = daily_events = get_daily_events(date=yesterday_str, type=\"Trafikolycka\")\n",
    "    no_yesterdays_accidents = len(yesterdays_accidents)\n",
    "\n",
    "    # Create a new DataFrame with yesterday's data\n",
    "    new_data = pd.DataFrame({\n",
    "        'date': [yesterday_str],\n",
    "        'accidents': [no_yesterdays_accidents]\n",
    "    })\n",
    "\n",
    "    # Append the new data to the existing DataFrame\n",
    "    df = pd.concat([df, new_data], ignore_index=True)\n",
    "\n",
    "    # Save the updated DataFrame back to the CSV\n",
    "    df.to_csv(csv_path, index=False)\n",
    "    print(f\"Data for {yesterday_str} has been added to the CSV.\")\n",
    "\n",
    "def get_yesterdays_accidents():\n",
    "    # Placeholder function to get yesterday's number of accidents\n",
    "    # Replace this with your actual logic to get the number of accidents\n",
    "    return 10\n",
    "\n",
    "# Example usage\n",
    "csv_path = '../data/police_api_backfill.csv'\n",
    "update_csv_with_yesterdays_accidents(csv_path)"
   ]
  }
 ],
 "metadata": {
  "language_info": {
   "name": "python"
  }
 },
 "nbformat": 4,
 "nbformat_minor": 2
}
