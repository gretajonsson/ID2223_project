{
 "cells": [
  {
   "cell_type": "markdown",
   "id": "49a84ee9",
   "metadata": {},
   "source": [
    "#### Imports"
   ]
  },
  {
   "cell_type": "code",
   "execution_count": 1,
   "id": "1f430c88",
   "metadata": {
    "execution": {
     "iopub.execute_input": "2025-01-20T01:13:03.493270Z",
     "iopub.status.busy": "2025-01-20T01:13:03.492832Z",
     "iopub.status.idle": "2025-01-20T01:13:05.418989Z",
     "shell.execute_reply": "2025-01-20T01:13:05.418355Z"
    }
   },
   "outputs": [
    {
     "name": "stderr",
     "output_type": "stream",
     "text": [
      "/opt/hostedtoolcache/Python/3.12.8/x64/lib/python3.12/site-packages/tqdm/auto.py:21: TqdmWarning: IProgress not found. Please update jupyter and ipywidgets. See https://ipywidgets.readthedocs.io/en/stable/user_install.html\n",
      "  from .autonotebook import tqdm as notebook_tqdm\n"
     ]
    }
   ],
   "source": [
    "import datetime\n",
    "import pandas as pd\n",
    "from xgboost import XGBRegressor\n",
    "import hopsworks\n",
    "import json\n",
    "from functions import util\n",
    "import os"
   ]
  },
  {
   "cell_type": "code",
   "execution_count": 2,
   "id": "bcfd27c1",
   "metadata": {
    "execution": {
     "iopub.execute_input": "2025-01-20T01:13:05.421385Z",
     "iopub.status.busy": "2025-01-20T01:13:05.421039Z",
     "iopub.status.idle": "2025-01-20T01:13:05.426920Z",
     "shell.execute_reply": "2025-01-20T01:13:05.426449Z"
    }
   },
   "outputs": [
    {
     "data": {
      "text/plain": [
       "datetime.datetime(2025, 1, 20, 1, 13, 5, 422158)"
      ]
     },
     "execution_count": 2,
     "metadata": {},
     "output_type": "execute_result"
    }
   ],
   "source": [
    "today = datetime.datetime.now() - datetime.timedelta(0)\n",
    "tomorrow = today + datetime.timedelta(days = 1)\n",
    "today"
   ]
  },
  {
   "cell_type": "markdown",
   "id": "4e91e99d",
   "metadata": {},
   "source": [
    "#### Connect to Hopsworks Feature Store"
   ]
  },
  {
   "cell_type": "code",
   "execution_count": 3,
   "id": "74a2c243",
   "metadata": {
    "execution": {
     "iopub.execute_input": "2025-01-20T01:13:05.428932Z",
     "iopub.status.busy": "2025-01-20T01:13:05.428399Z",
     "iopub.status.idle": "2025-01-20T01:13:07.224248Z",
     "shell.execute_reply": "2025-01-20T01:13:07.223659Z"
    }
   },
   "outputs": [
    {
     "name": "stdout",
     "output_type": "stream",
     "text": [
      "2025-01-20 01:13:05,430 INFO: Initializing external client\n"
     ]
    },
    {
     "name": "stdout",
     "output_type": "stream",
     "text": [
      "2025-01-20 01:13:05,430 INFO: Base URL: https://c.app.hopsworks.ai:443\n"
     ]
    },
    {
     "name": "stdout",
     "output_type": "stream",
     "text": [
      "2025-01-20 01:13:06,349 INFO: Python Engine initialized.\n"
     ]
    },
    {
     "name": "stdout",
     "output_type": "stream",
     "text": [
      "\n",
      "Logged in to project, explore it here https://c.app.hopsworks.ai:443/p/1207502\n"
     ]
    }
   ],
   "source": [
    "with open('../data/hopsworks-api-key.txt', 'r') as file:\n",
    "    os.environ[\"HOPSWORKS_API_KEY\"] = file.read().rstrip()\n",
    "\n",
    "project = hopsworks.login()\n",
    "fs = project.get_feature_store() \n"
   ]
  },
  {
   "cell_type": "markdown",
   "id": "4f138859",
   "metadata": {},
   "source": [
    "#### Feature View Retrieval\n"
   ]
  },
  {
   "cell_type": "code",
   "execution_count": 4,
   "id": "114b8e87",
   "metadata": {
    "execution": {
     "iopub.execute_input": "2025-01-20T01:13:07.226259Z",
     "iopub.status.busy": "2025-01-20T01:13:07.226044Z",
     "iopub.status.idle": "2025-01-20T01:13:08.660945Z",
     "shell.execute_reply": "2025-01-20T01:13:08.660398Z"
    }
   },
   "outputs": [],
   "source": [
    "feature_view = fs.get_feature_view(\n",
    "    name='accidents_fv',\n",
    "    version=1,\n",
    ")"
   ]
  },
  {
   "cell_type": "markdown",
   "id": "4cead441",
   "metadata": {},
   "source": [
    "#### Download the model from Model Registry"
   ]
  },
  {
   "cell_type": "code",
   "execution_count": 5,
   "id": "c6d70a2f",
   "metadata": {
    "execution": {
     "iopub.execute_input": "2025-01-20T01:13:08.662968Z",
     "iopub.status.busy": "2025-01-20T01:13:08.662778Z",
     "iopub.status.idle": "2025-01-20T01:13:10.837090Z",
     "shell.execute_reply": "2025-01-20T01:13:10.836575Z"
    }
   },
   "outputs": [
    {
     "name": "stdout",
     "output_type": "stream",
     "text": [
      "Downloading model artifact (0 dirs, 1 files)... \r"
     ]
    },
    {
     "name": "stdout",
     "output_type": "stream",
     "text": [
      "Downloading model artifact (0 dirs, 2 files)... \r"
     ]
    },
    {
     "name": "stdout",
     "output_type": "stream",
     "text": [
      "Downloading model artifact (0 dirs, 3 files)... \r",
      "Downloading model artifact (1 dirs, 3 files)... \r",
      "Downloading model artifact (1 dirs, 3 files)... DONE\r"
     ]
    }
   ],
   "source": [
    "mr = project.get_model_registry()\n",
    "\n",
    "retrieved_model = mr.get_model(\n",
    "    name=\"accident_model\",\n",
    "    version=4,\n",
    ")\n",
    "\n",
    "# Download the saved model artifacts to a local directory\n",
    "saved_model_dir = retrieved_model.download()"
   ]
  },
  {
   "cell_type": "code",
   "execution_count": 6,
   "id": "a6cf6c06",
   "metadata": {
    "execution": {
     "iopub.execute_input": "2025-01-20T01:13:10.839149Z",
     "iopub.status.busy": "2025-01-20T01:13:10.838774Z",
     "iopub.status.idle": "2025-01-20T01:13:10.941192Z",
     "shell.execute_reply": "2025-01-20T01:13:10.940543Z"
    }
   },
   "outputs": [
    {
     "data": {
      "text/html": [
       "<style>#sk-container-id-1 {\n",
       "  /* Definition of color scheme common for light and dark mode */\n",
       "  --sklearn-color-text: black;\n",
       "  --sklearn-color-line: gray;\n",
       "  /* Definition of color scheme for unfitted estimators */\n",
       "  --sklearn-color-unfitted-level-0: #fff5e6;\n",
       "  --sklearn-color-unfitted-level-1: #f6e4d2;\n",
       "  --sklearn-color-unfitted-level-2: #ffe0b3;\n",
       "  --sklearn-color-unfitted-level-3: chocolate;\n",
       "  /* Definition of color scheme for fitted estimators */\n",
       "  --sklearn-color-fitted-level-0: #f0f8ff;\n",
       "  --sklearn-color-fitted-level-1: #d4ebff;\n",
       "  --sklearn-color-fitted-level-2: #b3dbfd;\n",
       "  --sklearn-color-fitted-level-3: cornflowerblue;\n",
       "\n",
       "  /* Specific color for light theme */\n",
       "  --sklearn-color-text-on-default-background: var(--sg-text-color, var(--theme-code-foreground, var(--jp-content-font-color1, black)));\n",
       "  --sklearn-color-background: var(--sg-background-color, var(--theme-background, var(--jp-layout-color0, white)));\n",
       "  --sklearn-color-border-box: var(--sg-text-color, var(--theme-code-foreground, var(--jp-content-font-color1, black)));\n",
       "  --sklearn-color-icon: #696969;\n",
       "\n",
       "  @media (prefers-color-scheme: dark) {\n",
       "    /* Redefinition of color scheme for dark theme */\n",
       "    --sklearn-color-text-on-default-background: var(--sg-text-color, var(--theme-code-foreground, var(--jp-content-font-color1, white)));\n",
       "    --sklearn-color-background: var(--sg-background-color, var(--theme-background, var(--jp-layout-color0, #111)));\n",
       "    --sklearn-color-border-box: var(--sg-text-color, var(--theme-code-foreground, var(--jp-content-font-color1, white)));\n",
       "    --sklearn-color-icon: #878787;\n",
       "  }\n",
       "}\n",
       "\n",
       "#sk-container-id-1 {\n",
       "  color: var(--sklearn-color-text);\n",
       "}\n",
       "\n",
       "#sk-container-id-1 pre {\n",
       "  padding: 0;\n",
       "}\n",
       "\n",
       "#sk-container-id-1 input.sk-hidden--visually {\n",
       "  border: 0;\n",
       "  clip: rect(1px 1px 1px 1px);\n",
       "  clip: rect(1px, 1px, 1px, 1px);\n",
       "  height: 1px;\n",
       "  margin: -1px;\n",
       "  overflow: hidden;\n",
       "  padding: 0;\n",
       "  position: absolute;\n",
       "  width: 1px;\n",
       "}\n",
       "\n",
       "#sk-container-id-1 div.sk-dashed-wrapped {\n",
       "  border: 1px dashed var(--sklearn-color-line);\n",
       "  margin: 0 0.4em 0.5em 0.4em;\n",
       "  box-sizing: border-box;\n",
       "  padding-bottom: 0.4em;\n",
       "  background-color: var(--sklearn-color-background);\n",
       "}\n",
       "\n",
       "#sk-container-id-1 div.sk-container {\n",
       "  /* jupyter's `normalize.less` sets `[hidden] { display: none; }`\n",
       "     but bootstrap.min.css set `[hidden] { display: none !important; }`\n",
       "     so we also need the `!important` here to be able to override the\n",
       "     default hidden behavior on the sphinx rendered scikit-learn.org.\n",
       "     See: https://github.com/scikit-learn/scikit-learn/issues/21755 */\n",
       "  display: inline-block !important;\n",
       "  position: relative;\n",
       "}\n",
       "\n",
       "#sk-container-id-1 div.sk-text-repr-fallback {\n",
       "  display: none;\n",
       "}\n",
       "\n",
       "div.sk-parallel-item,\n",
       "div.sk-serial,\n",
       "div.sk-item {\n",
       "  /* draw centered vertical line to link estimators */\n",
       "  background-image: linear-gradient(var(--sklearn-color-text-on-default-background), var(--sklearn-color-text-on-default-background));\n",
       "  background-size: 2px 100%;\n",
       "  background-repeat: no-repeat;\n",
       "  background-position: center center;\n",
       "}\n",
       "\n",
       "/* Parallel-specific style estimator block */\n",
       "\n",
       "#sk-container-id-1 div.sk-parallel-item::after {\n",
       "  content: \"\";\n",
       "  width: 100%;\n",
       "  border-bottom: 2px solid var(--sklearn-color-text-on-default-background);\n",
       "  flex-grow: 1;\n",
       "}\n",
       "\n",
       "#sk-container-id-1 div.sk-parallel {\n",
       "  display: flex;\n",
       "  align-items: stretch;\n",
       "  justify-content: center;\n",
       "  background-color: var(--sklearn-color-background);\n",
       "  position: relative;\n",
       "}\n",
       "\n",
       "#sk-container-id-1 div.sk-parallel-item {\n",
       "  display: flex;\n",
       "  flex-direction: column;\n",
       "}\n",
       "\n",
       "#sk-container-id-1 div.sk-parallel-item:first-child::after {\n",
       "  align-self: flex-end;\n",
       "  width: 50%;\n",
       "}\n",
       "\n",
       "#sk-container-id-1 div.sk-parallel-item:last-child::after {\n",
       "  align-self: flex-start;\n",
       "  width: 50%;\n",
       "}\n",
       "\n",
       "#sk-container-id-1 div.sk-parallel-item:only-child::after {\n",
       "  width: 0;\n",
       "}\n",
       "\n",
       "/* Serial-specific style estimator block */\n",
       "\n",
       "#sk-container-id-1 div.sk-serial {\n",
       "  display: flex;\n",
       "  flex-direction: column;\n",
       "  align-items: center;\n",
       "  background-color: var(--sklearn-color-background);\n",
       "  padding-right: 1em;\n",
       "  padding-left: 1em;\n",
       "}\n",
       "\n",
       "\n",
       "/* Toggleable style: style used for estimator/Pipeline/ColumnTransformer box that is\n",
       "clickable and can be expanded/collapsed.\n",
       "- Pipeline and ColumnTransformer use this feature and define the default style\n",
       "- Estimators will overwrite some part of the style using the `sk-estimator` class\n",
       "*/\n",
       "\n",
       "/* Pipeline and ColumnTransformer style (default) */\n",
       "\n",
       "#sk-container-id-1 div.sk-toggleable {\n",
       "  /* Default theme specific background. It is overwritten whether we have a\n",
       "  specific estimator or a Pipeline/ColumnTransformer */\n",
       "  background-color: var(--sklearn-color-background);\n",
       "}\n",
       "\n",
       "/* Toggleable label */\n",
       "#sk-container-id-1 label.sk-toggleable__label {\n",
       "  cursor: pointer;\n",
       "  display: block;\n",
       "  width: 100%;\n",
       "  margin-bottom: 0;\n",
       "  padding: 0.5em;\n",
       "  box-sizing: border-box;\n",
       "  text-align: center;\n",
       "}\n",
       "\n",
       "#sk-container-id-1 label.sk-toggleable__label-arrow:before {\n",
       "  /* Arrow on the left of the label */\n",
       "  content: \"▸\";\n",
       "  float: left;\n",
       "  margin-right: 0.25em;\n",
       "  color: var(--sklearn-color-icon);\n",
       "}\n",
       "\n",
       "#sk-container-id-1 label.sk-toggleable__label-arrow:hover:before {\n",
       "  color: var(--sklearn-color-text);\n",
       "}\n",
       "\n",
       "/* Toggleable content - dropdown */\n",
       "\n",
       "#sk-container-id-1 div.sk-toggleable__content {\n",
       "  max-height: 0;\n",
       "  max-width: 0;\n",
       "  overflow: hidden;\n",
       "  text-align: left;\n",
       "  /* unfitted */\n",
       "  background-color: var(--sklearn-color-unfitted-level-0);\n",
       "}\n",
       "\n",
       "#sk-container-id-1 div.sk-toggleable__content.fitted {\n",
       "  /* fitted */\n",
       "  background-color: var(--sklearn-color-fitted-level-0);\n",
       "}\n",
       "\n",
       "#sk-container-id-1 div.sk-toggleable__content pre {\n",
       "  margin: 0.2em;\n",
       "  border-radius: 0.25em;\n",
       "  color: var(--sklearn-color-text);\n",
       "  /* unfitted */\n",
       "  background-color: var(--sklearn-color-unfitted-level-0);\n",
       "}\n",
       "\n",
       "#sk-container-id-1 div.sk-toggleable__content.fitted pre {\n",
       "  /* unfitted */\n",
       "  background-color: var(--sklearn-color-fitted-level-0);\n",
       "}\n",
       "\n",
       "#sk-container-id-1 input.sk-toggleable__control:checked~div.sk-toggleable__content {\n",
       "  /* Expand drop-down */\n",
       "  max-height: 200px;\n",
       "  max-width: 100%;\n",
       "  overflow: auto;\n",
       "}\n",
       "\n",
       "#sk-container-id-1 input.sk-toggleable__control:checked~label.sk-toggleable__label-arrow:before {\n",
       "  content: \"▾\";\n",
       "}\n",
       "\n",
       "/* Pipeline/ColumnTransformer-specific style */\n",
       "\n",
       "#sk-container-id-1 div.sk-label input.sk-toggleable__control:checked~label.sk-toggleable__label {\n",
       "  color: var(--sklearn-color-text);\n",
       "  background-color: var(--sklearn-color-unfitted-level-2);\n",
       "}\n",
       "\n",
       "#sk-container-id-1 div.sk-label.fitted input.sk-toggleable__control:checked~label.sk-toggleable__label {\n",
       "  background-color: var(--sklearn-color-fitted-level-2);\n",
       "}\n",
       "\n",
       "/* Estimator-specific style */\n",
       "\n",
       "/* Colorize estimator box */\n",
       "#sk-container-id-1 div.sk-estimator input.sk-toggleable__control:checked~label.sk-toggleable__label {\n",
       "  /* unfitted */\n",
       "  background-color: var(--sklearn-color-unfitted-level-2);\n",
       "}\n",
       "\n",
       "#sk-container-id-1 div.sk-estimator.fitted input.sk-toggleable__control:checked~label.sk-toggleable__label {\n",
       "  /* fitted */\n",
       "  background-color: var(--sklearn-color-fitted-level-2);\n",
       "}\n",
       "\n",
       "#sk-container-id-1 div.sk-label label.sk-toggleable__label,\n",
       "#sk-container-id-1 div.sk-label label {\n",
       "  /* The background is the default theme color */\n",
       "  color: var(--sklearn-color-text-on-default-background);\n",
       "}\n",
       "\n",
       "/* On hover, darken the color of the background */\n",
       "#sk-container-id-1 div.sk-label:hover label.sk-toggleable__label {\n",
       "  color: var(--sklearn-color-text);\n",
       "  background-color: var(--sklearn-color-unfitted-level-2);\n",
       "}\n",
       "\n",
       "/* Label box, darken color on hover, fitted */\n",
       "#sk-container-id-1 div.sk-label.fitted:hover label.sk-toggleable__label.fitted {\n",
       "  color: var(--sklearn-color-text);\n",
       "  background-color: var(--sklearn-color-fitted-level-2);\n",
       "}\n",
       "\n",
       "/* Estimator label */\n",
       "\n",
       "#sk-container-id-1 div.sk-label label {\n",
       "  font-family: monospace;\n",
       "  font-weight: bold;\n",
       "  display: inline-block;\n",
       "  line-height: 1.2em;\n",
       "}\n",
       "\n",
       "#sk-container-id-1 div.sk-label-container {\n",
       "  text-align: center;\n",
       "}\n",
       "\n",
       "/* Estimator-specific */\n",
       "#sk-container-id-1 div.sk-estimator {\n",
       "  font-family: monospace;\n",
       "  border: 1px dotted var(--sklearn-color-border-box);\n",
       "  border-radius: 0.25em;\n",
       "  box-sizing: border-box;\n",
       "  margin-bottom: 0.5em;\n",
       "  /* unfitted */\n",
       "  background-color: var(--sklearn-color-unfitted-level-0);\n",
       "}\n",
       "\n",
       "#sk-container-id-1 div.sk-estimator.fitted {\n",
       "  /* fitted */\n",
       "  background-color: var(--sklearn-color-fitted-level-0);\n",
       "}\n",
       "\n",
       "/* on hover */\n",
       "#sk-container-id-1 div.sk-estimator:hover {\n",
       "  /* unfitted */\n",
       "  background-color: var(--sklearn-color-unfitted-level-2);\n",
       "}\n",
       "\n",
       "#sk-container-id-1 div.sk-estimator.fitted:hover {\n",
       "  /* fitted */\n",
       "  background-color: var(--sklearn-color-fitted-level-2);\n",
       "}\n",
       "\n",
       "/* Specification for estimator info (e.g. \"i\" and \"?\") */\n",
       "\n",
       "/* Common style for \"i\" and \"?\" */\n",
       "\n",
       ".sk-estimator-doc-link,\n",
       "a:link.sk-estimator-doc-link,\n",
       "a:visited.sk-estimator-doc-link {\n",
       "  float: right;\n",
       "  font-size: smaller;\n",
       "  line-height: 1em;\n",
       "  font-family: monospace;\n",
       "  background-color: var(--sklearn-color-background);\n",
       "  border-radius: 1em;\n",
       "  height: 1em;\n",
       "  width: 1em;\n",
       "  text-decoration: none !important;\n",
       "  margin-left: 1ex;\n",
       "  /* unfitted */\n",
       "  border: var(--sklearn-color-unfitted-level-1) 1pt solid;\n",
       "  color: var(--sklearn-color-unfitted-level-1);\n",
       "}\n",
       "\n",
       ".sk-estimator-doc-link.fitted,\n",
       "a:link.sk-estimator-doc-link.fitted,\n",
       "a:visited.sk-estimator-doc-link.fitted {\n",
       "  /* fitted */\n",
       "  border: var(--sklearn-color-fitted-level-1) 1pt solid;\n",
       "  color: var(--sklearn-color-fitted-level-1);\n",
       "}\n",
       "\n",
       "/* On hover */\n",
       "div.sk-estimator:hover .sk-estimator-doc-link:hover,\n",
       ".sk-estimator-doc-link:hover,\n",
       "div.sk-label-container:hover .sk-estimator-doc-link:hover,\n",
       ".sk-estimator-doc-link:hover {\n",
       "  /* unfitted */\n",
       "  background-color: var(--sklearn-color-unfitted-level-3);\n",
       "  color: var(--sklearn-color-background);\n",
       "  text-decoration: none;\n",
       "}\n",
       "\n",
       "div.sk-estimator.fitted:hover .sk-estimator-doc-link.fitted:hover,\n",
       ".sk-estimator-doc-link.fitted:hover,\n",
       "div.sk-label-container:hover .sk-estimator-doc-link.fitted:hover,\n",
       ".sk-estimator-doc-link.fitted:hover {\n",
       "  /* fitted */\n",
       "  background-color: var(--sklearn-color-fitted-level-3);\n",
       "  color: var(--sklearn-color-background);\n",
       "  text-decoration: none;\n",
       "}\n",
       "\n",
       "/* Span, style for the box shown on hovering the info icon */\n",
       ".sk-estimator-doc-link span {\n",
       "  display: none;\n",
       "  z-index: 9999;\n",
       "  position: relative;\n",
       "  font-weight: normal;\n",
       "  right: .2ex;\n",
       "  padding: .5ex;\n",
       "  margin: .5ex;\n",
       "  width: min-content;\n",
       "  min-width: 20ex;\n",
       "  max-width: 50ex;\n",
       "  color: var(--sklearn-color-text);\n",
       "  box-shadow: 2pt 2pt 4pt #999;\n",
       "  /* unfitted */\n",
       "  background: var(--sklearn-color-unfitted-level-0);\n",
       "  border: .5pt solid var(--sklearn-color-unfitted-level-3);\n",
       "}\n",
       "\n",
       ".sk-estimator-doc-link.fitted span {\n",
       "  /* fitted */\n",
       "  background: var(--sklearn-color-fitted-level-0);\n",
       "  border: var(--sklearn-color-fitted-level-3);\n",
       "}\n",
       "\n",
       ".sk-estimator-doc-link:hover span {\n",
       "  display: block;\n",
       "}\n",
       "\n",
       "/* \"?\"-specific style due to the `<a>` HTML tag */\n",
       "\n",
       "#sk-container-id-1 a.estimator_doc_link {\n",
       "  float: right;\n",
       "  font-size: 1rem;\n",
       "  line-height: 1em;\n",
       "  font-family: monospace;\n",
       "  background-color: var(--sklearn-color-background);\n",
       "  border-radius: 1rem;\n",
       "  height: 1rem;\n",
       "  width: 1rem;\n",
       "  text-decoration: none;\n",
       "  /* unfitted */\n",
       "  color: var(--sklearn-color-unfitted-level-1);\n",
       "  border: var(--sklearn-color-unfitted-level-1) 1pt solid;\n",
       "}\n",
       "\n",
       "#sk-container-id-1 a.estimator_doc_link.fitted {\n",
       "  /* fitted */\n",
       "  border: var(--sklearn-color-fitted-level-1) 1pt solid;\n",
       "  color: var(--sklearn-color-fitted-level-1);\n",
       "}\n",
       "\n",
       "/* On hover */\n",
       "#sk-container-id-1 a.estimator_doc_link:hover {\n",
       "  /* unfitted */\n",
       "  background-color: var(--sklearn-color-unfitted-level-3);\n",
       "  color: var(--sklearn-color-background);\n",
       "  text-decoration: none;\n",
       "}\n",
       "\n",
       "#sk-container-id-1 a.estimator_doc_link.fitted:hover {\n",
       "  /* fitted */\n",
       "  background-color: var(--sklearn-color-fitted-level-3);\n",
       "}\n",
       "</style><div id=\"sk-container-id-1\" class=\"sk-top-container\"><div class=\"sk-text-repr-fallback\"><pre>XGBRegressor(base_score=&#x27;2.3360655E0&#x27;, booster=&#x27;gbtree&#x27;, callbacks=None,\n",
       "             colsample_bylevel=None, colsample_bynode=None,\n",
       "             colsample_bytree=None, device=None, early_stopping_rounds=None,\n",
       "             enable_categorical=False, eval_metric=None,\n",
       "             feature_types=[&#x27;float&#x27;, &#x27;float&#x27;, &#x27;float&#x27;, &#x27;float&#x27;, &#x27;int&#x27;],\n",
       "             gamma=None, grow_policy=None, importance_type=None,\n",
       "             interaction_constraints=None, learning_rate=None, max_bin=None,\n",
       "             max_cat_threshold=None, max_cat_to_onehot=None,\n",
       "             max_delta_step=None, max_depth=None, max_leaves=None,\n",
       "             min_child_weight=None, missing=nan, monotone_constraints=None,\n",
       "             multi_strategy=None, n_estimators=None, n_jobs=None,\n",
       "             num_parallel_tree=None, random_state=None, ...)</pre><b>In a Jupyter environment, please rerun this cell to show the HTML representation or trust the notebook. <br />On GitHub, the HTML representation is unable to render, please try loading this page with nbviewer.org.</b></div><div class=\"sk-container\" hidden><div class=\"sk-item\"><div class=\"sk-estimator fitted sk-toggleable\"><input class=\"sk-toggleable__control sk-hidden--visually\" id=\"sk-estimator-id-1\" type=\"checkbox\" checked><label for=\"sk-estimator-id-1\" class=\"sk-toggleable__label fitted sk-toggleable__label-arrow fitted\">&nbsp;XGBRegressor<span class=\"sk-estimator-doc-link fitted\">i<span>Fitted</span></span></label><div class=\"sk-toggleable__content fitted\"><pre>XGBRegressor(base_score=&#x27;2.3360655E0&#x27;, booster=&#x27;gbtree&#x27;, callbacks=None,\n",
       "             colsample_bylevel=None, colsample_bynode=None,\n",
       "             colsample_bytree=None, device=None, early_stopping_rounds=None,\n",
       "             enable_categorical=False, eval_metric=None,\n",
       "             feature_types=[&#x27;float&#x27;, &#x27;float&#x27;, &#x27;float&#x27;, &#x27;float&#x27;, &#x27;int&#x27;],\n",
       "             gamma=None, grow_policy=None, importance_type=None,\n",
       "             interaction_constraints=None, learning_rate=None, max_bin=None,\n",
       "             max_cat_threshold=None, max_cat_to_onehot=None,\n",
       "             max_delta_step=None, max_depth=None, max_leaves=None,\n",
       "             min_child_weight=None, missing=nan, monotone_constraints=None,\n",
       "             multi_strategy=None, n_estimators=None, n_jobs=None,\n",
       "             num_parallel_tree=None, random_state=None, ...)</pre></div> </div></div></div></div>"
      ],
      "text/plain": [
       "XGBRegressor(base_score='2.3360655E0', booster='gbtree', callbacks=None,\n",
       "             colsample_bylevel=None, colsample_bynode=None,\n",
       "             colsample_bytree=None, device=None, early_stopping_rounds=None,\n",
       "             enable_categorical=False, eval_metric=None,\n",
       "             feature_types=['float', 'float', 'float', 'float', 'int'],\n",
       "             gamma=None, grow_policy=None, importance_type=None,\n",
       "             interaction_constraints=None, learning_rate=None, max_bin=None,\n",
       "             max_cat_threshold=None, max_cat_to_onehot=None,\n",
       "             max_delta_step=None, max_depth=None, max_leaves=None,\n",
       "             min_child_weight=None, missing=nan, monotone_constraints=None,\n",
       "             multi_strategy=None, n_estimators=None, n_jobs=None,\n",
       "             num_parallel_tree=None, random_state=None, ...)"
      ]
     },
     "execution_count": 6,
     "metadata": {},
     "output_type": "execute_result"
    }
   ],
   "source": [
    "# Loading the XGBoost regressor model and label encoder from the saved model directory\n",
    "# retrieved_xgboost_model = joblib.load(saved_model_dir + \"/xgboost_regressor.pkl\")\n",
    "retrieved_xgboost_model = XGBRegressor()\n",
    "\n",
    "retrieved_xgboost_model.load_model(saved_model_dir + \"/model.json\")\n",
    "\n",
    "# Displaying the retrieved XGBoost regressor model\n",
    "retrieved_xgboost_model"
   ]
  },
  {
   "cell_type": "markdown",
   "id": "43ad941a",
   "metadata": {},
   "source": [
    "#### Get Weather Forecast Features with Feature View\n"
   ]
  },
  {
   "cell_type": "code",
   "execution_count": 7,
   "id": "aaacae3c",
   "metadata": {
    "execution": {
     "iopub.execute_input": "2025-01-20T01:13:10.943013Z",
     "iopub.status.busy": "2025-01-20T01:13:10.942830Z",
     "iopub.status.idle": "2025-01-20T01:13:13.016470Z",
     "shell.execute_reply": "2025-01-20T01:13:13.015865Z"
    }
   },
   "outputs": [
    {
     "name": "stdout",
     "output_type": "stream",
     "text": [
      "Reading data from Hopsworks, using Hopsworks Feature Query Service.   \r"
     ]
    },
    {
     "name": "stdout",
     "output_type": "stream",
     "text": [
      "Reading data from Hopsworks, using Hopsworks Feature Query Service..   \r"
     ]
    },
    {
     "name": "stdout",
     "output_type": "stream",
     "text": [
      "\r",
      "Finished: Reading data from Hopsworks, using Hopsworks Feature Query Service (0.67s) \n"
     ]
    },
    {
     "data": {
      "text/html": [
       "<div>\n",
       "<style scoped>\n",
       "    .dataframe tbody tr th:only-of-type {\n",
       "        vertical-align: middle;\n",
       "    }\n",
       "\n",
       "    .dataframe tbody tr th {\n",
       "        vertical-align: top;\n",
       "    }\n",
       "\n",
       "    .dataframe thead th {\n",
       "        text-align: right;\n",
       "    }\n",
       "</style>\n",
       "<table border=\"1\" class=\"dataframe\">\n",
       "  <thead>\n",
       "    <tr style=\"text-align: right;\">\n",
       "      <th></th>\n",
       "      <th>date</th>\n",
       "      <th>temperature_2m_mean</th>\n",
       "      <th>precipitation_sum</th>\n",
       "      <th>wind_speed_10m_max</th>\n",
       "      <th>wind_direction_10m_dominant</th>\n",
       "      <th>city</th>\n",
       "      <th>day_of_week</th>\n",
       "    </tr>\n",
       "  </thead>\n",
       "  <tbody>\n",
       "    <tr>\n",
       "      <th>0</th>\n",
       "      <td>2025-01-21 00:00:00+00:00</td>\n",
       "      <td>2.55</td>\n",
       "      <td>0.0</td>\n",
       "      <td>8.891344</td>\n",
       "      <td>111.370697</td>\n",
       "      <td>Stockholm</td>\n",
       "      <td>1</td>\n",
       "    </tr>\n",
       "    <tr>\n",
       "      <th>1</th>\n",
       "      <td>2025-01-22 00:00:00+00:00</td>\n",
       "      <td>2.05</td>\n",
       "      <td>0.0</td>\n",
       "      <td>12.101570</td>\n",
       "      <td>247.248993</td>\n",
       "      <td>Stockholm</td>\n",
       "      <td>2</td>\n",
       "    </tr>\n",
       "    <tr>\n",
       "      <th>2</th>\n",
       "      <td>2025-01-23 00:00:00+00:00</td>\n",
       "      <td>0.40</td>\n",
       "      <td>0.0</td>\n",
       "      <td>7.968939</td>\n",
       "      <td>108.435043</td>\n",
       "      <td>Stockholm</td>\n",
       "      <td>3</td>\n",
       "    </tr>\n",
       "    <tr>\n",
       "      <th>3</th>\n",
       "      <td>2025-01-24 00:00:00+00:00</td>\n",
       "      <td>3.15</td>\n",
       "      <td>0.0</td>\n",
       "      <td>14.386494</td>\n",
       "      <td>211.701385</td>\n",
       "      <td>Stockholm</td>\n",
       "      <td>4</td>\n",
       "    </tr>\n",
       "    <tr>\n",
       "      <th>4</th>\n",
       "      <td>2025-01-25 00:00:00+00:00</td>\n",
       "      <td>3.60</td>\n",
       "      <td>0.1</td>\n",
       "      <td>24.031178</td>\n",
       "      <td>171.384430</td>\n",
       "      <td>Stockholm</td>\n",
       "      <td>5</td>\n",
       "    </tr>\n",
       "    <tr>\n",
       "      <th>5</th>\n",
       "      <td>2025-01-26 00:00:00+00:00</td>\n",
       "      <td>6.20</td>\n",
       "      <td>0.0</td>\n",
       "      <td>15.175612</td>\n",
       "      <td>202.306259</td>\n",
       "      <td>Stockholm</td>\n",
       "      <td>6</td>\n",
       "    </tr>\n",
       "    <tr>\n",
       "      <th>6</th>\n",
       "      <td>2025-01-27 00:00:00+00:00</td>\n",
       "      <td>4.70</td>\n",
       "      <td>0.0</td>\n",
       "      <td>8.145870</td>\n",
       "      <td>224.999893</td>\n",
       "      <td>Stockholm</td>\n",
       "      <td>0</td>\n",
       "    </tr>\n",
       "    <tr>\n",
       "      <th>7</th>\n",
       "      <td>2025-01-28 00:00:00+00:00</td>\n",
       "      <td>2.80</td>\n",
       "      <td>0.0</td>\n",
       "      <td>5.506941</td>\n",
       "      <td>258.690094</td>\n",
       "      <td>Stockholm</td>\n",
       "      <td>1</td>\n",
       "    </tr>\n",
       "  </tbody>\n",
       "</table>\n",
       "</div>"
      ],
      "text/plain": [
       "                       date  temperature_2m_mean  precipitation_sum  \\\n",
       "0 2025-01-21 00:00:00+00:00                 2.55                0.0   \n",
       "1 2025-01-22 00:00:00+00:00                 2.05                0.0   \n",
       "2 2025-01-23 00:00:00+00:00                 0.40                0.0   \n",
       "3 2025-01-24 00:00:00+00:00                 3.15                0.0   \n",
       "4 2025-01-25 00:00:00+00:00                 3.60                0.1   \n",
       "5 2025-01-26 00:00:00+00:00                 6.20                0.0   \n",
       "6 2025-01-27 00:00:00+00:00                 4.70                0.0   \n",
       "7 2025-01-28 00:00:00+00:00                 2.80                0.0   \n",
       "\n",
       "   wind_speed_10m_max  wind_direction_10m_dominant       city  day_of_week  \n",
       "0            8.891344                   111.370697  Stockholm            1  \n",
       "1           12.101570                   247.248993  Stockholm            2  \n",
       "2            7.968939                   108.435043  Stockholm            3  \n",
       "3           14.386494                   211.701385  Stockholm            4  \n",
       "4           24.031178                   171.384430  Stockholm            5  \n",
       "5           15.175612                   202.306259  Stockholm            6  \n",
       "6            8.145870                   224.999893  Stockholm            0  \n",
       "7            5.506941                   258.690094  Stockholm            1  "
      ]
     },
     "execution_count": 7,
     "metadata": {},
     "output_type": "execute_result"
    }
   ],
   "source": [
    "weather_fg = fs.get_feature_group(\n",
    "    name='weather',\n",
    "    version=1,\n",
    ")\n",
    "batch_data = weather_fg.filter(weather_fg.date >= today).read()\n",
    "batch_data"
   ]
  },
  {
   "cell_type": "markdown",
   "id": "804e4491",
   "metadata": {},
   "source": [
    "#### Making the predictions"
   ]
  },
  {
   "cell_type": "code",
   "execution_count": 8,
   "id": "4566b635",
   "metadata": {
    "execution": {
     "iopub.execute_input": "2025-01-20T01:13:13.018433Z",
     "iopub.status.busy": "2025-01-20T01:13:13.018250Z",
     "iopub.status.idle": "2025-01-20T01:13:13.032150Z",
     "shell.execute_reply": "2025-01-20T01:13:13.031579Z"
    }
   },
   "outputs": [
    {
     "data": {
      "text/html": [
       "<div>\n",
       "<style scoped>\n",
       "    .dataframe tbody tr th:only-of-type {\n",
       "        vertical-align: middle;\n",
       "    }\n",
       "\n",
       "    .dataframe tbody tr th {\n",
       "        vertical-align: top;\n",
       "    }\n",
       "\n",
       "    .dataframe thead th {\n",
       "        text-align: right;\n",
       "    }\n",
       "</style>\n",
       "<table border=\"1\" class=\"dataframe\">\n",
       "  <thead>\n",
       "    <tr style=\"text-align: right;\">\n",
       "      <th></th>\n",
       "      <th>date</th>\n",
       "      <th>temperature_2m_mean</th>\n",
       "      <th>precipitation_sum</th>\n",
       "      <th>wind_speed_10m_max</th>\n",
       "      <th>wind_direction_10m_dominant</th>\n",
       "      <th>city</th>\n",
       "      <th>day_of_week</th>\n",
       "      <th>predicted_accidents</th>\n",
       "    </tr>\n",
       "  </thead>\n",
       "  <tbody>\n",
       "    <tr>\n",
       "      <th>0</th>\n",
       "      <td>2025-01-21 00:00:00+00:00</td>\n",
       "      <td>2.55</td>\n",
       "      <td>0.0</td>\n",
       "      <td>8.891344</td>\n",
       "      <td>111.370697</td>\n",
       "      <td>Stockholm</td>\n",
       "      <td>1</td>\n",
       "      <td>2.141294</td>\n",
       "    </tr>\n",
       "    <tr>\n",
       "      <th>1</th>\n",
       "      <td>2025-01-22 00:00:00+00:00</td>\n",
       "      <td>2.05</td>\n",
       "      <td>0.0</td>\n",
       "      <td>12.101570</td>\n",
       "      <td>247.248993</td>\n",
       "      <td>Stockholm</td>\n",
       "      <td>2</td>\n",
       "      <td>2.642621</td>\n",
       "    </tr>\n",
       "    <tr>\n",
       "      <th>2</th>\n",
       "      <td>2025-01-23 00:00:00+00:00</td>\n",
       "      <td>0.40</td>\n",
       "      <td>0.0</td>\n",
       "      <td>7.968939</td>\n",
       "      <td>108.435043</td>\n",
       "      <td>Stockholm</td>\n",
       "      <td>3</td>\n",
       "      <td>2.052406</td>\n",
       "    </tr>\n",
       "    <tr>\n",
       "      <th>3</th>\n",
       "      <td>2025-01-24 00:00:00+00:00</td>\n",
       "      <td>3.15</td>\n",
       "      <td>0.0</td>\n",
       "      <td>14.386494</td>\n",
       "      <td>211.701385</td>\n",
       "      <td>Stockholm</td>\n",
       "      <td>4</td>\n",
       "      <td>3.239411</td>\n",
       "    </tr>\n",
       "    <tr>\n",
       "      <th>4</th>\n",
       "      <td>2025-01-25 00:00:00+00:00</td>\n",
       "      <td>3.60</td>\n",
       "      <td>0.1</td>\n",
       "      <td>24.031178</td>\n",
       "      <td>171.384430</td>\n",
       "      <td>Stockholm</td>\n",
       "      <td>5</td>\n",
       "      <td>2.823751</td>\n",
       "    </tr>\n",
       "    <tr>\n",
       "      <th>5</th>\n",
       "      <td>2025-01-26 00:00:00+00:00</td>\n",
       "      <td>6.20</td>\n",
       "      <td>0.0</td>\n",
       "      <td>15.175612</td>\n",
       "      <td>202.306259</td>\n",
       "      <td>Stockholm</td>\n",
       "      <td>6</td>\n",
       "      <td>3.997614</td>\n",
       "    </tr>\n",
       "    <tr>\n",
       "      <th>6</th>\n",
       "      <td>2025-01-27 00:00:00+00:00</td>\n",
       "      <td>4.70</td>\n",
       "      <td>0.0</td>\n",
       "      <td>8.145870</td>\n",
       "      <td>224.999893</td>\n",
       "      <td>Stockholm</td>\n",
       "      <td>0</td>\n",
       "      <td>2.200722</td>\n",
       "    </tr>\n",
       "    <tr>\n",
       "      <th>7</th>\n",
       "      <td>2025-01-28 00:00:00+00:00</td>\n",
       "      <td>2.80</td>\n",
       "      <td>0.0</td>\n",
       "      <td>5.506941</td>\n",
       "      <td>258.690094</td>\n",
       "      <td>Stockholm</td>\n",
       "      <td>1</td>\n",
       "      <td>1.985730</td>\n",
       "    </tr>\n",
       "  </tbody>\n",
       "</table>\n",
       "</div>"
      ],
      "text/plain": [
       "                       date  temperature_2m_mean  precipitation_sum  \\\n",
       "0 2025-01-21 00:00:00+00:00                 2.55                0.0   \n",
       "1 2025-01-22 00:00:00+00:00                 2.05                0.0   \n",
       "2 2025-01-23 00:00:00+00:00                 0.40                0.0   \n",
       "3 2025-01-24 00:00:00+00:00                 3.15                0.0   \n",
       "4 2025-01-25 00:00:00+00:00                 3.60                0.1   \n",
       "5 2025-01-26 00:00:00+00:00                 6.20                0.0   \n",
       "6 2025-01-27 00:00:00+00:00                 4.70                0.0   \n",
       "7 2025-01-28 00:00:00+00:00                 2.80                0.0   \n",
       "\n",
       "   wind_speed_10m_max  wind_direction_10m_dominant       city  day_of_week  \\\n",
       "0            8.891344                   111.370697  Stockholm            1   \n",
       "1           12.101570                   247.248993  Stockholm            2   \n",
       "2            7.968939                   108.435043  Stockholm            3   \n",
       "3           14.386494                   211.701385  Stockholm            4   \n",
       "4           24.031178                   171.384430  Stockholm            5   \n",
       "5           15.175612                   202.306259  Stockholm            6   \n",
       "6            8.145870                   224.999893  Stockholm            0   \n",
       "7            5.506941                   258.690094  Stockholm            1   \n",
       "\n",
       "   predicted_accidents  \n",
       "0             2.141294  \n",
       "1             2.642621  \n",
       "2             2.052406  \n",
       "3             3.239411  \n",
       "4             2.823751  \n",
       "5             3.997614  \n",
       "6             2.200722  \n",
       "7             1.985730  "
      ]
     },
     "execution_count": 8,
     "metadata": {},
     "output_type": "execute_result"
    }
   ],
   "source": [
    "batch_data['predicted_accidents'] = retrieved_xgboost_model.predict(\n",
    "    batch_data[['temperature_2m_mean', 'precipitation_sum', 'wind_speed_10m_max', 'wind_direction_10m_dominant', 'day_of_week']])\n",
    "batch_data.sort_values(by='date', inplace=True)\n",
    "\n",
    "batch_data\n"
   ]
  },
  {
   "cell_type": "code",
   "execution_count": 9,
   "id": "95d78ba2",
   "metadata": {
    "execution": {
     "iopub.execute_input": "2025-01-20T01:13:13.033928Z",
     "iopub.status.busy": "2025-01-20T01:13:13.033644Z",
     "iopub.status.idle": "2025-01-20T01:13:13.040950Z",
     "shell.execute_reply": "2025-01-20T01:13:13.040377Z"
    }
   },
   "outputs": [
    {
     "name": "stdout",
     "output_type": "stream",
     "text": [
      "<class 'pandas.core.frame.DataFrame'>\n",
      "RangeIndex: 8 entries, 0 to 7\n",
      "Data columns (total 8 columns):\n",
      " #   Column                       Non-Null Count  Dtype                  \n",
      "---  ------                       --------------  -----                  \n",
      " 0   date                         8 non-null      datetime64[us, Etc/UTC]\n",
      " 1   temperature_2m_mean          8 non-null      float32                \n",
      " 2   precipitation_sum            8 non-null      float32                \n",
      " 3   wind_speed_10m_max           8 non-null      float32                \n",
      " 4   wind_direction_10m_dominant  8 non-null      float32                \n",
      " 5   city                         8 non-null      object                 \n",
      " 6   day_of_week                  8 non-null      int32                  \n",
      " 7   predicted_accidents          8 non-null      float32                \n",
      "dtypes: datetime64[us, Etc/UTC](1), float32(5), int32(1), object(1)\n",
      "memory usage: 452.0+ bytes\n"
     ]
    }
   ],
   "source": [
    "batch_data.info()"
   ]
  },
  {
   "cell_type": "markdown",
   "id": "d23e2b0a",
   "metadata": {},
   "source": [
    "#### Saving the predictions (for monitoring) to a Feature Group"
   ]
  },
  {
   "cell_type": "code",
   "execution_count": 10,
   "id": "9d5d9436",
   "metadata": {
    "execution": {
     "iopub.execute_input": "2025-01-20T01:13:13.042931Z",
     "iopub.status.busy": "2025-01-20T01:13:13.042527Z",
     "iopub.status.idle": "2025-01-20T01:13:13.053428Z",
     "shell.execute_reply": "2025-01-20T01:13:13.052969Z"
    }
   },
   "outputs": [
    {
     "data": {
      "text/html": [
       "<div>\n",
       "<style scoped>\n",
       "    .dataframe tbody tr th:only-of-type {\n",
       "        vertical-align: middle;\n",
       "    }\n",
       "\n",
       "    .dataframe tbody tr th {\n",
       "        vertical-align: top;\n",
       "    }\n",
       "\n",
       "    .dataframe thead th {\n",
       "        text-align: right;\n",
       "    }\n",
       "</style>\n",
       "<table border=\"1\" class=\"dataframe\">\n",
       "  <thead>\n",
       "    <tr style=\"text-align: right;\">\n",
       "      <th></th>\n",
       "      <th>date</th>\n",
       "      <th>temperature_2m_mean</th>\n",
       "      <th>precipitation_sum</th>\n",
       "      <th>wind_speed_10m_max</th>\n",
       "      <th>wind_direction_10m_dominant</th>\n",
       "      <th>city</th>\n",
       "      <th>day_of_week</th>\n",
       "      <th>predicted_accidents</th>\n",
       "      <th>country</th>\n",
       "      <th>days_before_forecast_day</th>\n",
       "    </tr>\n",
       "  </thead>\n",
       "  <tbody>\n",
       "    <tr>\n",
       "      <th>0</th>\n",
       "      <td>2025-01-21 00:00:00+00:00</td>\n",
       "      <td>2.55</td>\n",
       "      <td>0.0</td>\n",
       "      <td>8.891344</td>\n",
       "      <td>111.370697</td>\n",
       "      <td>Stockholm</td>\n",
       "      <td>1</td>\n",
       "      <td>2.141294</td>\n",
       "      <td>Sweden</td>\n",
       "      <td>1</td>\n",
       "    </tr>\n",
       "    <tr>\n",
       "      <th>1</th>\n",
       "      <td>2025-01-22 00:00:00+00:00</td>\n",
       "      <td>2.05</td>\n",
       "      <td>0.0</td>\n",
       "      <td>12.101570</td>\n",
       "      <td>247.248993</td>\n",
       "      <td>Stockholm</td>\n",
       "      <td>2</td>\n",
       "      <td>2.642621</td>\n",
       "      <td>Sweden</td>\n",
       "      <td>2</td>\n",
       "    </tr>\n",
       "    <tr>\n",
       "      <th>2</th>\n",
       "      <td>2025-01-23 00:00:00+00:00</td>\n",
       "      <td>0.40</td>\n",
       "      <td>0.0</td>\n",
       "      <td>7.968939</td>\n",
       "      <td>108.435043</td>\n",
       "      <td>Stockholm</td>\n",
       "      <td>3</td>\n",
       "      <td>2.052406</td>\n",
       "      <td>Sweden</td>\n",
       "      <td>3</td>\n",
       "    </tr>\n",
       "    <tr>\n",
       "      <th>3</th>\n",
       "      <td>2025-01-24 00:00:00+00:00</td>\n",
       "      <td>3.15</td>\n",
       "      <td>0.0</td>\n",
       "      <td>14.386494</td>\n",
       "      <td>211.701385</td>\n",
       "      <td>Stockholm</td>\n",
       "      <td>4</td>\n",
       "      <td>3.239411</td>\n",
       "      <td>Sweden</td>\n",
       "      <td>4</td>\n",
       "    </tr>\n",
       "    <tr>\n",
       "      <th>4</th>\n",
       "      <td>2025-01-25 00:00:00+00:00</td>\n",
       "      <td>3.60</td>\n",
       "      <td>0.1</td>\n",
       "      <td>24.031178</td>\n",
       "      <td>171.384430</td>\n",
       "      <td>Stockholm</td>\n",
       "      <td>5</td>\n",
       "      <td>2.823751</td>\n",
       "      <td>Sweden</td>\n",
       "      <td>5</td>\n",
       "    </tr>\n",
       "    <tr>\n",
       "      <th>5</th>\n",
       "      <td>2025-01-26 00:00:00+00:00</td>\n",
       "      <td>6.20</td>\n",
       "      <td>0.0</td>\n",
       "      <td>15.175612</td>\n",
       "      <td>202.306259</td>\n",
       "      <td>Stockholm</td>\n",
       "      <td>6</td>\n",
       "      <td>3.997614</td>\n",
       "      <td>Sweden</td>\n",
       "      <td>6</td>\n",
       "    </tr>\n",
       "    <tr>\n",
       "      <th>6</th>\n",
       "      <td>2025-01-27 00:00:00+00:00</td>\n",
       "      <td>4.70</td>\n",
       "      <td>0.0</td>\n",
       "      <td>8.145870</td>\n",
       "      <td>224.999893</td>\n",
       "      <td>Stockholm</td>\n",
       "      <td>0</td>\n",
       "      <td>2.200722</td>\n",
       "      <td>Sweden</td>\n",
       "      <td>7</td>\n",
       "    </tr>\n",
       "    <tr>\n",
       "      <th>7</th>\n",
       "      <td>2025-01-28 00:00:00+00:00</td>\n",
       "      <td>2.80</td>\n",
       "      <td>0.0</td>\n",
       "      <td>5.506941</td>\n",
       "      <td>258.690094</td>\n",
       "      <td>Stockholm</td>\n",
       "      <td>1</td>\n",
       "      <td>1.985730</td>\n",
       "      <td>Sweden</td>\n",
       "      <td>8</td>\n",
       "    </tr>\n",
       "  </tbody>\n",
       "</table>\n",
       "</div>"
      ],
      "text/plain": [
       "                       date  temperature_2m_mean  precipitation_sum  \\\n",
       "0 2025-01-21 00:00:00+00:00                 2.55                0.0   \n",
       "1 2025-01-22 00:00:00+00:00                 2.05                0.0   \n",
       "2 2025-01-23 00:00:00+00:00                 0.40                0.0   \n",
       "3 2025-01-24 00:00:00+00:00                 3.15                0.0   \n",
       "4 2025-01-25 00:00:00+00:00                 3.60                0.1   \n",
       "5 2025-01-26 00:00:00+00:00                 6.20                0.0   \n",
       "6 2025-01-27 00:00:00+00:00                 4.70                0.0   \n",
       "7 2025-01-28 00:00:00+00:00                 2.80                0.0   \n",
       "\n",
       "   wind_speed_10m_max  wind_direction_10m_dominant       city  day_of_week  \\\n",
       "0            8.891344                   111.370697  Stockholm            1   \n",
       "1           12.101570                   247.248993  Stockholm            2   \n",
       "2            7.968939                   108.435043  Stockholm            3   \n",
       "3           14.386494                   211.701385  Stockholm            4   \n",
       "4           24.031178                   171.384430  Stockholm            5   \n",
       "5           15.175612                   202.306259  Stockholm            6   \n",
       "6            8.145870                   224.999893  Stockholm            0   \n",
       "7            5.506941                   258.690094  Stockholm            1   \n",
       "\n",
       "   predicted_accidents country  days_before_forecast_day  \n",
       "0             2.141294  Sweden                         1  \n",
       "1             2.642621  Sweden                         2  \n",
       "2             2.052406  Sweden                         3  \n",
       "3             3.239411  Sweden                         4  \n",
       "4             2.823751  Sweden                         5  \n",
       "5             3.997614  Sweden                         6  \n",
       "6             2.200722  Sweden                         7  \n",
       "7             1.985730  Sweden                         8  "
      ]
     },
     "execution_count": 10,
     "metadata": {},
     "output_type": "execute_result"
    }
   ],
   "source": [
    "batch_data['city'] = \"Stockholm\"\n",
    "batch_data['country'] = \"Sweden\"\n",
    "# Fill in the number of days before the date on which you made the forecast (base_date)\n",
    "batch_data['days_before_forecast_day'] = range(1, len(batch_data)+1)\n",
    "batch_data = batch_data.sort_values(by=['date'])\n",
    "batch_data"
   ]
  },
  {
   "cell_type": "code",
   "execution_count": 11,
   "id": "00e6787b",
   "metadata": {
    "execution": {
     "iopub.execute_input": "2025-01-20T01:13:13.055073Z",
     "iopub.status.busy": "2025-01-20T01:13:13.054900Z",
     "iopub.status.idle": "2025-01-20T01:13:13.061586Z",
     "shell.execute_reply": "2025-01-20T01:13:13.061006Z"
    }
   },
   "outputs": [
    {
     "name": "stdout",
     "output_type": "stream",
     "text": [
      "<class 'pandas.core.frame.DataFrame'>\n",
      "RangeIndex: 8 entries, 0 to 7\n",
      "Data columns (total 10 columns):\n",
      " #   Column                       Non-Null Count  Dtype                  \n",
      "---  ------                       --------------  -----                  \n",
      " 0   date                         8 non-null      datetime64[us, Etc/UTC]\n",
      " 1   temperature_2m_mean          8 non-null      float32                \n",
      " 2   precipitation_sum            8 non-null      float32                \n",
      " 3   wind_speed_10m_max           8 non-null      float32                \n",
      " 4   wind_direction_10m_dominant  8 non-null      float32                \n",
      " 5   city                         8 non-null      object                 \n",
      " 6   day_of_week                  8 non-null      int32                  \n",
      " 7   predicted_accidents          8 non-null      float32                \n",
      " 8   country                      8 non-null      object                 \n",
      " 9   days_before_forecast_day     8 non-null      int64                  \n",
      "dtypes: datetime64[us, Etc/UTC](1), float32(5), int32(1), int64(1), object(2)\n",
      "memory usage: 580.0+ bytes\n"
     ]
    }
   ],
   "source": [
    "batch_data.info()"
   ]
  },
  {
   "cell_type": "markdown",
   "id": "6ff10c12",
   "metadata": {},
   "source": [
    "### Create Forecast Graph\n",
    "Draw a graph of the predictions with dates as a PNG and save it to the github repo\n",
    "Show it on github pages"
   ]
  },
  {
   "cell_type": "code",
   "execution_count": 12,
   "id": "9bb0f844",
   "metadata": {
    "execution": {
     "iopub.execute_input": "2025-01-20T01:13:13.063454Z",
     "iopub.status.busy": "2025-01-20T01:13:13.063273Z",
     "iopub.status.idle": "2025-01-20T01:13:13.371039Z",
     "shell.execute_reply": "2025-01-20T01:13:13.370388Z"
    }
   },
   "outputs": [
    {
     "data": {
      "image/png": "[encoded data removed]",
      "text/plain": [
       "<Figure size 1000x600 with 1 Axes>"
      ]
     },
     "metadata": {},
     "output_type": "display_data"
    }
   ],
   "source": [
    "import os\n",
    "from functions import util\n",
    "file_path = \"../data/forecast.png\"\n",
    "os.makedirs(os.path.dirname(file_path), exist_ok=True)\n",
    "plt = util.plot_accidents_forecast(\"Svealand\", batch_data, file_path=file_path)\n",
    "plt.show()"
   ]
  },
  {
   "cell_type": "code",
   "execution_count": 13,
   "id": "f4403994",
   "metadata": {
    "execution": {
     "iopub.execute_input": "2025-01-20T01:13:13.373492Z",
     "iopub.status.busy": "2025-01-20T01:13:13.372918Z",
     "iopub.status.idle": "2025-01-20T01:13:13.495895Z",
     "shell.execute_reply": "2025-01-20T01:13:13.495254Z"
    }
   },
   "outputs": [],
   "source": [
    "import os\n",
    "from functions import util\n",
    "file_path = \"../data/forecast_table.png\"\n",
    "os.makedirs(os.path.dirname(file_path), exist_ok=True)\n",
    "plt = util.plot_accidents_table(\"Svealand\", batch_data, file_path=file_path)\n",
    "plt.show()"
   ]
  },
  {
   "cell_type": "code",
   "execution_count": 14,
   "id": "c418a791",
   "metadata": {
    "execution": {
     "iopub.execute_input": "2025-01-20T01:13:13.498229Z",
     "iopub.status.busy": "2025-01-20T01:13:13.498023Z",
     "iopub.status.idle": "2025-01-20T01:13:13.787895Z",
     "shell.execute_reply": "2025-01-20T01:13:13.787444Z"
    }
   },
   "outputs": [],
   "source": [
    "# Get or create feature group\n",
    "monitor_fg = fs.get_or_create_feature_group(\n",
    "    name='accidents_predictions',\n",
    "    description='Accidents prediction monitoring',\n",
    "    version=1,\n",
    "    primary_key=['city','date','days_before_forecast_day'],\n",
    "    event_time=\"date\"\n",
    ")\n"
   ]
  },
  {
   "cell_type": "code",
   "execution_count": 15,
   "id": "8992650a",
   "metadata": {
    "execution": {
     "iopub.execute_input": "2025-01-20T01:13:13.790011Z",
     "iopub.status.busy": "2025-01-20T01:13:13.789589Z",
     "iopub.status.idle": "2025-01-20T01:15:44.576666Z",
     "shell.execute_reply": "2025-01-20T01:15:44.576209Z"
    }
   },
   "outputs": [
    {
     "name": "stderr",
     "output_type": "stream",
     "text": [
      "\r",
      "Uploading Dataframe: 0.00% |          | Rows 0/8 | Elapsed Time: 00:00 | Remaining Time: ?"
     ]
    },
    {
     "name": "stderr",
     "output_type": "stream",
     "text": [
      "\r",
      "Uploading Dataframe: 37.50% |███▊      | Rows 3/8 | Elapsed Time: 00:01 | Remaining Time: 00:01"
     ]
    },
    {
     "name": "stderr",
     "output_type": "stream",
     "text": [
      "\r",
      "Uploading Dataframe: 100.00% |██████████| Rows 8/8 | Elapsed Time: 00:01 | Remaining Time: 00:00"
     ]
    },
    {
     "name": "stderr",
     "output_type": "stream",
     "text": [
      "\n"
     ]
    },
    {
     "name": "stdout",
     "output_type": "stream",
     "text": [
      "Launching job: accidents_predictions_1_offline_fg_materialization\n"
     ]
    },
    {
     "name": "stdout",
     "output_type": "stream",
     "text": [
      "Job started successfully, you can follow the progress at \n",
      "https://c.app.hopsworks.ai:443/p/1207502/jobs/named/accidents_predictions_1_offline_fg_materialization/executions\n"
     ]
    },
    {
     "name": "stdout",
     "output_type": "stream",
     "text": [
      "2025-01-20 01:13:26,828 INFO: Waiting for execution to finish. Current state: SUBMITTED. Final status: UNDEFINED\n"
     ]
    },
    {
     "name": "stdout",
     "output_type": "stream",
     "text": [
      "2025-01-20 01:13:30,049 INFO: Waiting for execution to finish. Current state: RUNNING. Final status: UNDEFINED\n"
     ]
    },
    {
     "name": "stdout",
     "output_type": "stream",
     "text": [
      "2025-01-20 01:15:29,204 INFO: Waiting for execution to finish. Current state: AGGREGATING_LOGS. Final status: SUCCEEDED\n"
     ]
    },
    {
     "name": "stdout",
     "output_type": "stream",
     "text": [
      "2025-01-20 01:15:29,311 INFO: Waiting for log aggregation to finish.\n"
     ]
    },
    {
     "name": "stdout",
     "output_type": "stream",
     "text": [
      "2025-01-20 01:15:44,572 INFO: Execution finished successfully.\n"
     ]
    },
    {
     "data": {
      "text/plain": [
       "(Job('accidents_predictions_1_offline_fg_materialization', 'SPARK'), None)"
      ]
     },
     "execution_count": 15,
     "metadata": {},
     "output_type": "execute_result"
    }
   ],
   "source": [
    "monitor_fg.insert(batch_data, write_options={\"wait_for_job\": True})"
   ]
  }
 ],
 "metadata": {
  "kernelspec": {
   "display_name": "Python 3",
   "language": "python",
   "name": "python3"
  },
  "language_info": {
   "codemirror_mode": {
    "name": "ipython",
    "version": 3
   },
   "file_extension": ".py",
   "mimetype": "text/x-python",
   "name": "python",
   "nbconvert_exporter": "python",
   "pygments_lexer": "ipython3",
   "version": "3.12.8"
  }
 },
 "nbformat": 4,
 "nbformat_minor": 5
}
